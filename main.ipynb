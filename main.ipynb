{
 "cells": [
  {
   "cell_type": "markdown",
   "source": [
    "### 导入库"
   ],
   "metadata": {
    "collapsed": false,
    "pycharm": {
     "name": "#%% md\n"
    }
   }
  },
  {
   "cell_type": "code",
   "execution_count": 1,
   "outputs": [],
   "source": [
    "from preprocessing import Get_question,Get_answer,GetQuestions"
   ],
   "metadata": {
    "collapsed": false,
    "pycharm": {
     "name": "#%%\n"
    }
   }
  },
  {
   "cell_type": "markdown",
   "source": [
    "### 配置信息"
   ],
   "metadata": {
    "collapsed": false
   }
  },
  {
   "cell_type": "code",
   "execution_count": 2,
   "outputs": [],
   "source": [
    "# file_path = \"马原复习22.5.docx\"\n",
    "file_path = \"test.docx\"\n",
    "question_type = {\n",
    "    \"single\":True,\n",
    "    \"multiple\":False,\n",
    "    \"T_or_F\":False\n",
    "}\n",
    "separator_between_number_and_question_text = '、'\n",
    "separator_between_option_and_option_text = '、'\n",
    "separator_between_answer_tag_and_answer = '：'\n",
    "answer_tag = 'answer_tag'\n",
    "T_or_F_options = ['正确','错误']"
   ],
   "metadata": {
    "collapsed": false,
    "pycharm": {
     "name": "#%%\n"
    }
   }
  },
  {
   "cell_type": "markdown",
   "source": [
    "### 准备工作\n"
   ],
   "metadata": {
    "collapsed": false,
    "pycharm": {
     "name": "#%% md\n"
    }
   }
  },
  {
   "cell_type": "code",
   "execution_count": 3,
   "outputs": [],
   "source": [
    "questions = GetQuestions(file_path=file_path,\n",
    "                                       question_type=question_type,\n",
    "                                       answer_tag=answer_tag,\n",
    "                                       T_or_F_options=T_or_F_options,\n",
    "                                       separator_between_number_and_question_text=separator_between_number_and_question_text,\n",
    "                                       separator_between_option_and_option_text=separator_between_option_and_option_text,\n",
    "                                       separator_between_answer_tag_and_answer=separator_between_answer_tag_and_answer)"
   ],
   "metadata": {
    "collapsed": false,
    "pycharm": {
     "name": "#%%\n"
    }
   }
  },
  {
   "cell_type": "markdown",
   "source": [
    "## 随机获取一道题"
   ],
   "metadata": {
    "collapsed": false,
    "pycharm": {
     "name": "#%% md\n"
    }
   }
  },
  {
   "cell_type": "code",
   "execution_count": 4,
   "outputs": [
    {
     "name": "stdout",
     "output_type": "stream",
     "text": [
      "None、None\n",
      "A、I am A\n",
      "B、I am B\n"
     ]
    }
   ],
   "source": [
    "question=Get_question(questions=questions,disposable=True)"
   ],
   "metadata": {
    "collapsed": false,
    "pycharm": {
     "name": "#%%\n"
    }
   }
  },
  {
   "cell_type": "code",
   "execution_count": 5,
   "outputs": [
    {
     "name": "stdout",
     "output_type": "stream",
     "text": [
      "answer_tag：C\n"
     ]
    }
   ],
   "source": [
    "Get_answer(answer_tag=answer_tag,question=question)"
   ],
   "metadata": {
    "collapsed": false,
    "pycharm": {
     "name": "#%%\n"
    }
   }
  }
 ],
 "metadata": {
  "kernelspec": {
   "display_name": "Python 3",
   "language": "python",
   "name": "python3"
  },
  "language_info": {
   "codemirror_mode": {
    "name": "ipython",
    "version": 2
   },
   "file_extension": ".py",
   "mimetype": "text/x-python",
   "name": "python",
   "nbconvert_exporter": "python",
   "pygments_lexer": "ipython2",
   "version": "2.7.6"
  }
 },
 "nbformat": 4,
 "nbformat_minor": 0
}